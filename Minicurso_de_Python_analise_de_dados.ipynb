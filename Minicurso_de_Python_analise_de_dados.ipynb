{
  "nbformat": 4,
  "nbformat_minor": 0,
  "metadata": {
    "colab": {
      "name": "Minicurso de Python - analise-de-dados.ipynb",
      "provenance": [],
      "collapsed_sections": [],
      "toc_visible": true,
      "include_colab_link": true
    },
    "kernelspec": {
      "display_name": "Python 3",
      "language": "python",
      "name": "python3"
    }
  },
  "cells": [
    {
      "cell_type": "markdown",
      "metadata": {
        "id": "view-in-github",
        "colab_type": "text"
      },
      "source": [
        "<a href=\"https://colab.research.google.com/github/daviafs/minicurso_python/blob/master/Minicurso_de_Python_analise_de_dados.ipynb\" target=\"_parent\"><img src=\"https://colab.research.google.com/assets/colab-badge.svg\" alt=\"Open In Colab\"/></a>"
      ]
    },
    {
      "cell_type": "markdown",
      "metadata": {
        "id": "jXRTYtJ_JPFk",
        "colab_type": "text"
      },
      "source": [
        "# Vendo um pouco de Pandas\n",
        "\n",
        "Mais algums detalhes podem ser vistos no [notebook](https://nbviewer.jupyter.org/github/mvinoba/notebooks-for-binder/blob/master/postagem.ipynb) usado como base para esse material."
      ]
    },
    {
      "cell_type": "markdown",
      "metadata": {
        "id": "OnePZkmGJPFl",
        "colab_type": "text"
      },
      "source": [
        "Pandas é uma biblioteca Python que fornece ferramentas de análise de dados e estruturas de dados de alta performance e fáceis de usar. Por ser a principal e mais completa biblioteca para estes objetivos, pandas é fundamental para análise de dados com Python."
      ]
    },
    {
      "cell_type": "code",
      "metadata": {
        "id": "VdNSoLgPJPFm",
        "colab_type": "code",
        "colab": {}
      },
      "source": [
        "import pandas as pd\n",
        "import numpy as np\n",
        "import matplotlib.pyplot as plt\n",
        "\n",
        "%matplotlib inline"
      ],
      "execution_count": 0,
      "outputs": []
    },
    {
      "cell_type": "markdown",
      "metadata": {
        "id": "aM5lht66xczu",
        "colab_type": "text"
      },
      "source": [
        "Existem dois tipos principais de estruturas de dados no pandas: **Series** e **DataFrame**."
      ]
    },
    {
      "cell_type": "code",
      "metadata": {
        "id": "fLE1GKsWJPFq",
        "colab_type": "code",
        "colab": {}
      },
      "source": [
        "from pandas import Series, DataFrame"
      ],
      "execution_count": 0,
      "outputs": []
    },
    {
      "cell_type": "markdown",
      "metadata": {
        "id": "rrOwFhcAJPFr",
        "colab_type": "text"
      },
      "source": [
        "## Series "
      ]
    },
    {
      "cell_type": "markdown",
      "metadata": {
        "id": "r-rTAt7jxn81",
        "colab_type": "text"
      },
      "source": [
        "Uma Series é como um array unidimensional, uma lista de valores. Toda Series possui um índice, o `index`, que dá rótulos a cada elemento da lista. Abaixo criamos uma Series `notas`, o `index` desta Series é a coluna à esquerda, que vai de 0 a 4 neste caso, que o pandas criou automaticamente, já que não especificamos uma lista de rótulos."
      ]
    },
    {
      "cell_type": "code",
      "metadata": {
        "id": "kB2Uzsd-JPFt",
        "colab_type": "code",
        "outputId": "3c0ff24d-ed77-4661-f4f8-770d3318ff49",
        "colab": {
          "base_uri": "https://localhost:8080/",
          "height": 127
        }
      },
      "source": [
        "notas = pd.Series([2,7,5,10,6])\n",
        "notas"
      ],
      "execution_count": 0,
      "outputs": [
        {
          "output_type": "execute_result",
          "data": {
            "text/plain": [
              "0     2\n",
              "1     7\n",
              "2     5\n",
              "3    10\n",
              "4     6\n",
              "dtype: int64"
            ]
          },
          "metadata": {
            "tags": []
          },
          "execution_count": 6
        }
      ]
    },
    {
      "cell_type": "markdown",
      "metadata": {
        "id": "zmBxQ4xYxz5a",
        "colab_type": "text"
      },
      "source": [
        "Já podemos aqui verificar os atributos da nossa Series, comecemos pelos valores e o índice, os dois atributos *fundamentais* nesta estrutura:"
      ]
    },
    {
      "cell_type": "code",
      "metadata": {
        "id": "DkfM-xoqJPFv",
        "colab_type": "code",
        "outputId": "9e6aff54-c923-46c0-a57a-41f72a51300f",
        "colab": {
          "base_uri": "https://localhost:8080/",
          "height": 54
        }
      },
      "source": [
        "print(notas.values)\n",
        "print(notas.index)"
      ],
      "execution_count": 0,
      "outputs": [
        {
          "output_type": "stream",
          "text": [
            "[ 2  7  5 10  6]\n",
            "RangeIndex(start=0, stop=5, step=1)\n"
          ],
          "name": "stdout"
        }
      ]
    },
    {
      "cell_type": "markdown",
      "metadata": {
        "id": "NSN2DPfbyBZp",
        "colab_type": "text"
      },
      "source": [
        "Como ao criar a Series não demos um índice específico o pandas usou os inteiros positivos crescentes como padrão. Pode ser conveniente atribuirmos um índice diferente do padrão, supondo que essas sejam notas de uma turma, poderíamos atribuir nomes ao index:\n",
        "\n"
      ]
    },
    {
      "cell_type": "code",
      "metadata": {
        "id": "afIG8tbEJPFx",
        "colab_type": "code",
        "outputId": "90bc7bd9-266e-4a64-b788-14869d86068f",
        "colab": {
          "base_uri": "https://localhost:8080/",
          "height": 127
        }
      },
      "source": [
        "notas = pd.Series([2,7,5,10,6], index=[\"Wilfred\", \"Abbie\", \"Harry\", \"Julia\", \"Carrie\"])\n",
        "notas"
      ],
      "execution_count": 0,
      "outputs": [
        {
          "output_type": "execute_result",
          "data": {
            "text/plain": [
              "Wilfred     2\n",
              "Abbie       7\n",
              "Harry       5\n",
              "Julia      10\n",
              "Carrie      6\n",
              "dtype: int64"
            ]
          },
          "metadata": {
            "tags": []
          },
          "execution_count": 10
        }
      ]
    },
    {
      "cell_type": "markdown",
      "metadata": {
        "id": "uUi9xovZyGrx",
        "colab_type": "text"
      },
      "source": [
        "O index nos ajuda para referenciar um determinado valor, ele nos permite acessar os valores pelo seu rótulo:\n",
        "\n"
      ]
    },
    {
      "cell_type": "code",
      "metadata": {
        "id": "AziPRQ4kyHSU",
        "colab_type": "code",
        "outputId": "6e2b0e19-3caa-41c6-c517-5eb5a31b8117",
        "colab": {
          "base_uri": "https://localhost:8080/",
          "height": 35
        }
      },
      "source": [
        "notas[\"Julia\"]\n"
      ],
      "execution_count": 0,
      "outputs": [
        {
          "output_type": "execute_result",
          "data": {
            "text/plain": [
              "10"
            ]
          },
          "metadata": {
            "tags": []
          },
          "execution_count": 11
        }
      ]
    },
    {
      "cell_type": "markdown",
      "metadata": {
        "id": "wMQarQMmyLjc",
        "colab_type": "text"
      },
      "source": [
        "Outra facilidade proporcionada pela estrutura são seus métodos que fornecem informações estatísticas sobre os valores, como **média** `.mean()` e **desvio padrão** `.std()`. Encorajo o leitor(a) a investigar e verificar alguns dos métodos e atributos da estrutura usando o `TAB` para auto-completação na shell do Python, ou simplesmente checar a completíssima [documentação oficial](https://pandas.pydata.org/pandas-docs/stable/generated/pandas.Series.html#pandas.Series) deste objeto."
      ]
    },
    {
      "cell_type": "code",
      "metadata": {
        "id": "onBnC9rsJPF0",
        "colab_type": "code",
        "outputId": "09fa939b-9371-4626-ba9b-a19c0bdea7f0",
        "colab": {
          "base_uri": "https://localhost:8080/",
          "height": 54
        }
      },
      "source": [
        "print(\"Média:\", notas.mean())\n",
        "print(\"Desvio padrão:\", notas.std())"
      ],
      "execution_count": 0,
      "outputs": [
        {
          "output_type": "stream",
          "text": [
            "Média: 6.0\n",
            "Desvio padrão: 2.9154759474226504\n"
          ],
          "name": "stdout"
        }
      ]
    },
    {
      "cell_type": "markdown",
      "metadata": {
        "id": "z4ta3Bc3ySW-",
        "colab_type": "text"
      },
      "source": [
        "Geralmente para resumir brevemente as estatísticas dos dados se usa o `.describe()`"
      ]
    },
    {
      "cell_type": "code",
      "metadata": {
        "id": "x9oYwO1zyUO3",
        "colab_type": "code",
        "outputId": "04d77528-4273-4c7c-83eb-62384c79dc67",
        "colab": {
          "base_uri": "https://localhost:8080/",
          "height": 182
        }
      },
      "source": [
        "notas.describe()"
      ],
      "execution_count": 0,
      "outputs": [
        {
          "output_type": "execute_result",
          "data": {
            "text/plain": [
              "count     5.000000\n",
              "mean      6.000000\n",
              "std       2.915476\n",
              "min       2.000000\n",
              "25%       5.000000\n",
              "50%       6.000000\n",
              "75%       7.000000\n",
              "max      10.000000\n",
              "dtype: float64"
            ]
          },
          "metadata": {
            "tags": []
          },
          "execution_count": 13
        }
      ]
    },
    {
      "cell_type": "markdown",
      "metadata": {
        "id": "fz5rI2niyXXh",
        "colab_type": "text"
      },
      "source": [
        "A estrutura é flexível o suficiente pra aplicarmos algumas expressões matemáticas e funções matemáticas do numpy diretamente:"
      ]
    },
    {
      "cell_type": "code",
      "metadata": {
        "id": "u2agOxqnyZAh",
        "colab_type": "code",
        "outputId": "02e88415-cd9c-4b61-a49d-dab2737f7640",
        "colab": {
          "base_uri": "https://localhost:8080/",
          "height": 119
        }
      },
      "source": [
        "notas**2\n"
      ],
      "execution_count": 0,
      "outputs": [
        {
          "output_type": "execute_result",
          "data": {
            "text/plain": [
              "Wilfred      4\n",
              "Abbie       49\n",
              "Harry       25\n",
              "Julia      100\n",
              "Carrie      36\n",
              "dtype: int64"
            ]
          },
          "metadata": {
            "tags": []
          },
          "execution_count": 71
        }
      ]
    },
    {
      "cell_type": "code",
      "metadata": {
        "id": "_MQqXaVIJPF3",
        "colab_type": "code",
        "outputId": "64db0643-dd48-4e4c-ad6e-8d621deae8cf",
        "colab": {
          "base_uri": "https://localhost:8080/",
          "height": 34
        }
      },
      "source": [
        "[aluno for aluno in notas.index if notas[aluno] >= 7]"
      ],
      "execution_count": 0,
      "outputs": [
        {
          "output_type": "execute_result",
          "data": {
            "text/plain": [
              "['Abbie', 'Julia']"
            ]
          },
          "metadata": {
            "tags": []
          },
          "execution_count": 79
        }
      ]
    },
    {
      "cell_type": "code",
      "metadata": {
        "id": "O5Bh5KWJJPF8",
        "colab_type": "code",
        "outputId": "9d8933ac-c54a-4ac6-ec90-730e638efb96",
        "colab": {
          "base_uri": "https://localhost:8080/",
          "height": 34
        }
      },
      "source": [
        "'Julia' in notas.index"
      ],
      "execution_count": 0,
      "outputs": [
        {
          "output_type": "execute_result",
          "data": {
            "text/plain": [
              "True"
            ]
          },
          "metadata": {
            "tags": []
          },
          "execution_count": 85
        }
      ]
    },
    {
      "cell_type": "code",
      "metadata": {
        "id": "pIEJPfsEJPGA",
        "colab_type": "code",
        "outputId": "6e68de00-62c5-48d5-c5ef-5bd3afbf7258",
        "colab": {
          "base_uri": "https://localhost:8080/",
          "height": 34
        }
      },
      "source": [
        "0 in notas.values"
      ],
      "execution_count": 0,
      "outputs": [
        {
          "output_type": "execute_result",
          "data": {
            "text/plain": [
              "False"
            ]
          },
          "metadata": {
            "tags": []
          },
          "execution_count": 87
        }
      ]
    },
    {
      "cell_type": "markdown",
      "metadata": {
        "id": "XmD9fFJ10mLS",
        "colab_type": "text"
      },
      "source": [
        "## DataFrame"
      ]
    },
    {
      "cell_type": "markdown",
      "metadata": {
        "id": "Ubo7xHRU0oyk",
        "colab_type": "text"
      },
      "source": [
        "Já um DataFrame é uma estrutura bidimensional de dados, como uma planilha. Abaixo criaremos um DataFrame que possui valores de diferentes tipos, usando um dicionário como entrada dos dados:\n",
        "\n"
      ]
    },
    {
      "cell_type": "code",
      "metadata": {
        "id": "lOTqhXdh0qk-",
        "colab_type": "code",
        "outputId": "9292a4de-c020-4962-ac96-30da2faba75d",
        "colab": {
          "base_uri": "https://localhost:8080/",
          "height": 206
        }
      },
      "source": [
        "df = pd.DataFrame({'Aluno' : [\"Wilfred\", \"Abbie\", \"Harry\", \"Julia\", \"Carrie\"],\n",
        "                   'Faltas' : [3,4,2,1,4],\n",
        "                   'Prova' : [2,7,5,10,6],\n",
        "                   'Seminário': [8.5,7.5,9.0,7.5,8.0]})\n",
        "df"
      ],
      "execution_count": 0,
      "outputs": [
        {
          "output_type": "execute_result",
          "data": {
            "text/html": [
              "<div>\n",
              "<style scoped>\n",
              "    .dataframe tbody tr th:only-of-type {\n",
              "        vertical-align: middle;\n",
              "    }\n",
              "\n",
              "    .dataframe tbody tr th {\n",
              "        vertical-align: top;\n",
              "    }\n",
              "\n",
              "    .dataframe thead th {\n",
              "        text-align: right;\n",
              "    }\n",
              "</style>\n",
              "<table border=\"1\" class=\"dataframe\">\n",
              "  <thead>\n",
              "    <tr style=\"text-align: right;\">\n",
              "      <th></th>\n",
              "      <th>Aluno</th>\n",
              "      <th>Faltas</th>\n",
              "      <th>Prova</th>\n",
              "      <th>Seminário</th>\n",
              "    </tr>\n",
              "  </thead>\n",
              "  <tbody>\n",
              "    <tr>\n",
              "      <th>0</th>\n",
              "      <td>Wilfred</td>\n",
              "      <td>3</td>\n",
              "      <td>2</td>\n",
              "      <td>8.5</td>\n",
              "    </tr>\n",
              "    <tr>\n",
              "      <th>1</th>\n",
              "      <td>Abbie</td>\n",
              "      <td>4</td>\n",
              "      <td>7</td>\n",
              "      <td>7.5</td>\n",
              "    </tr>\n",
              "    <tr>\n",
              "      <th>2</th>\n",
              "      <td>Harry</td>\n",
              "      <td>2</td>\n",
              "      <td>5</td>\n",
              "      <td>9.0</td>\n",
              "    </tr>\n",
              "    <tr>\n",
              "      <th>3</th>\n",
              "      <td>Julia</td>\n",
              "      <td>1</td>\n",
              "      <td>10</td>\n",
              "      <td>7.5</td>\n",
              "    </tr>\n",
              "    <tr>\n",
              "      <th>4</th>\n",
              "      <td>Carrie</td>\n",
              "      <td>4</td>\n",
              "      <td>6</td>\n",
              "      <td>8.0</td>\n",
              "    </tr>\n",
              "  </tbody>\n",
              "</table>\n",
              "</div>"
            ],
            "text/plain": [
              "     Aluno  Faltas  Prova  Seminário\n",
              "0  Wilfred       3      2        8.5\n",
              "1    Abbie       4      7        7.5\n",
              "2    Harry       2      5        9.0\n",
              "3    Julia       1     10        7.5\n",
              "4   Carrie       4      6        8.0"
            ]
          },
          "metadata": {
            "tags": []
          },
          "execution_count": 14
        }
      ]
    },
    {
      "cell_type": "markdown",
      "metadata": {
        "id": "Co-fIW5E0snZ",
        "colab_type": "text"
      },
      "source": [
        "Os tipos de dados que compõe as colunas podem ser verificados por um método próprio:\n",
        "\n"
      ]
    },
    {
      "cell_type": "code",
      "metadata": {
        "id": "A929ucM10vGO",
        "colab_type": "code",
        "colab": {}
      },
      "source": [
        "df.dtypes"
      ],
      "execution_count": 0,
      "outputs": []
    },
    {
      "cell_type": "markdown",
      "metadata": {
        "id": "DMU757xo0vsx",
        "colab_type": "text"
      },
      "source": [
        "É possível acessar a lista de colunas de forma bem intuitiva:\n",
        "\n"
      ]
    },
    {
      "cell_type": "code",
      "metadata": {
        "id": "XaU6BJ240yFO",
        "colab_type": "code",
        "colab": {}
      },
      "source": [
        "df.columns"
      ],
      "execution_count": 0,
      "outputs": []
    },
    {
      "cell_type": "markdown",
      "metadata": {
        "id": "Ptgitvqc0z60",
        "colab_type": "text"
      },
      "source": [
        "Os nomes das colunas podem ser usadas pra acessar seus valores:\n",
        "\n"
      ]
    },
    {
      "cell_type": "code",
      "metadata": {
        "id": "G_XkvBWT00RY",
        "colab_type": "code",
        "colab": {}
      },
      "source": [
        "df[\"Seminário\"]"
      ],
      "execution_count": 0,
      "outputs": []
    },
    {
      "cell_type": "markdown",
      "metadata": {
        "id": "DIuOB0mg02R3",
        "colab_type": "text"
      },
      "source": [
        "Para DataFrames, `.describe()` também é uma boa forma de verificar resumidamente a disposição estatística dos dados numéricos:"
      ]
    },
    {
      "cell_type": "code",
      "metadata": {
        "id": "0laxaCT908gF",
        "colab_type": "code",
        "colab": {}
      },
      "source": [
        "df.describe()"
      ],
      "execution_count": 0,
      "outputs": []
    },
    {
      "cell_type": "markdown",
      "metadata": {
        "id": "u0Yb0NAV0_4b",
        "colab_type": "text"
      },
      "source": [
        "Outra tarefa comum aplicada em DataFrames é ordená-los por determinada coluna:"
      ]
    },
    {
      "cell_type": "code",
      "metadata": {
        "id": "Ox7F1WWQ1BN6",
        "colab_type": "code",
        "outputId": "f1b0978d-7335-4656-a8b1-6345582a0de5",
        "colab": {
          "base_uri": "https://localhost:8080/",
          "height": 206
        }
      },
      "source": [
        "df.sort_values(by=\"Seminário\")"
      ],
      "execution_count": 0,
      "outputs": [
        {
          "output_type": "execute_result",
          "data": {
            "text/html": [
              "<div>\n",
              "<style scoped>\n",
              "    .dataframe tbody tr th:only-of-type {\n",
              "        vertical-align: middle;\n",
              "    }\n",
              "\n",
              "    .dataframe tbody tr th {\n",
              "        vertical-align: top;\n",
              "    }\n",
              "\n",
              "    .dataframe thead th {\n",
              "        text-align: right;\n",
              "    }\n",
              "</style>\n",
              "<table border=\"1\" class=\"dataframe\">\n",
              "  <thead>\n",
              "    <tr style=\"text-align: right;\">\n",
              "      <th></th>\n",
              "      <th>Aluno</th>\n",
              "      <th>Faltas</th>\n",
              "      <th>Prova</th>\n",
              "      <th>Seminário</th>\n",
              "    </tr>\n",
              "  </thead>\n",
              "  <tbody>\n",
              "    <tr>\n",
              "      <th>1</th>\n",
              "      <td>Abbie</td>\n",
              "      <td>4</td>\n",
              "      <td>7</td>\n",
              "      <td>7.5</td>\n",
              "    </tr>\n",
              "    <tr>\n",
              "      <th>3</th>\n",
              "      <td>Julia</td>\n",
              "      <td>1</td>\n",
              "      <td>10</td>\n",
              "      <td>7.5</td>\n",
              "    </tr>\n",
              "    <tr>\n",
              "      <th>4</th>\n",
              "      <td>Carrie</td>\n",
              "      <td>4</td>\n",
              "      <td>6</td>\n",
              "      <td>8.0</td>\n",
              "    </tr>\n",
              "    <tr>\n",
              "      <th>0</th>\n",
              "      <td>Wilfred</td>\n",
              "      <td>3</td>\n",
              "      <td>2</td>\n",
              "      <td>8.5</td>\n",
              "    </tr>\n",
              "    <tr>\n",
              "      <th>2</th>\n",
              "      <td>Harry</td>\n",
              "      <td>2</td>\n",
              "      <td>5</td>\n",
              "      <td>9.0</td>\n",
              "    </tr>\n",
              "  </tbody>\n",
              "</table>\n",
              "</div>"
            ],
            "text/plain": [
              "     Aluno  Faltas  Prova  Seminário\n",
              "1    Abbie       4      7        7.5\n",
              "3    Julia       1     10        7.5\n",
              "4   Carrie       4      6        8.0\n",
              "0  Wilfred       3      2        8.5\n",
              "2    Harry       2      5        9.0"
            ]
          },
          "metadata": {
            "tags": []
          },
          "execution_count": 17
        }
      ]
    },
    {
      "cell_type": "markdown",
      "metadata": {
        "id": "fJPsbEmr1G2B",
        "colab_type": "text"
      },
      "source": [
        "Muitas vezes é necessário selecionarmos valores específicos de um DataFrame, seja uma linha ou uma célula específica, e isso pode ser feito de diversas formas. A documentação oficial contém [vasta informação](https://pandas.pydata.org/pandas-docs/stable/indexing.html#indexing) para esse tipo de tarefa, aqui nos concentraremos nas formas mais comuns de selecionarmos dados.\n"
      ]
    },
    {
      "cell_type": "code",
      "metadata": {
        "id": "S9Ije9ue1HdI",
        "colab_type": "code",
        "outputId": "31e1c9d6-1abc-4d4c-af5b-d6fa3265b841",
        "colab": {
          "base_uri": "https://localhost:8080/",
          "height": 109
        }
      },
      "source": [
        "df.loc[3]"
      ],
      "execution_count": 0,
      "outputs": [
        {
          "output_type": "execute_result",
          "data": {
            "text/plain": [
              "Aluno        Julia\n",
              "Faltas           1\n",
              "Prova           10\n",
              "Seminário      7.5\n",
              "Name: 3, dtype: object"
            ]
          },
          "metadata": {
            "tags": []
          },
          "execution_count": 18
        }
      ]
    },
    {
      "cell_type": "markdown",
      "metadata": {
        "id": "cBOtQNiH1KvS",
        "colab_type": "text"
      },
      "source": [
        "Para selecionar de acordo com critérios condicionais, se usa o que se chama de **Boolean Indexing**."
      ]
    },
    {
      "cell_type": "code",
      "metadata": {
        "id": "zgEDMBU31L2_",
        "colab_type": "code",
        "colab": {}
      },
      "source": [
        "df[df[\"Seminário\"] > 8.0]"
      ],
      "execution_count": 0,
      "outputs": []
    },
    {
      "cell_type": "markdown",
      "metadata": {
        "id": "O-ARK5by1Pla",
        "colab_type": "text"
      },
      "source": [
        "Este tipo de indexação também possibilita checar condições de múltiplas colunas. Diferentemente do que estamos habituados em Python, aqui se usam operadores bitwise, ou seja, `&`, `|`, `~` ao invés de `and`, `or`, `not`, respectivamente. Suponha que além de `df[\"Seminário\"] > 8.0` queiramos que o valor da coluna `Prova` não seja menor que 3:"
      ]
    },
    {
      "cell_type": "code",
      "metadata": {
        "id": "sBWMiuZz1P_o",
        "colab_type": "code",
        "outputId": "bd0525e2-7240-4d6f-cb98-c03def508ef4",
        "colab": {
          "base_uri": "https://localhost:8080/",
          "height": 81
        }
      },
      "source": [
        "df[(df[\"Seminário\"] > 8.0) & (df[\"Prova\"] > 3)]"
      ],
      "execution_count": 0,
      "outputs": [
        {
          "output_type": "execute_result",
          "data": {
            "text/html": [
              "<div>\n",
              "<style scoped>\n",
              "    .dataframe tbody tr th:only-of-type {\n",
              "        vertical-align: middle;\n",
              "    }\n",
              "\n",
              "    .dataframe tbody tr th {\n",
              "        vertical-align: top;\n",
              "    }\n",
              "\n",
              "    .dataframe thead th {\n",
              "        text-align: right;\n",
              "    }\n",
              "</style>\n",
              "<table border=\"1\" class=\"dataframe\">\n",
              "  <thead>\n",
              "    <tr style=\"text-align: right;\">\n",
              "      <th></th>\n",
              "      <th>Aluno</th>\n",
              "      <th>Faltas</th>\n",
              "      <th>Prova</th>\n",
              "      <th>Seminário</th>\n",
              "    </tr>\n",
              "  </thead>\n",
              "  <tbody>\n",
              "    <tr>\n",
              "      <th>2</th>\n",
              "      <td>Harry</td>\n",
              "      <td>2</td>\n",
              "      <td>5</td>\n",
              "      <td>9.0</td>\n",
              "    </tr>\n",
              "  </tbody>\n",
              "</table>\n",
              "</div>"
            ],
            "text/plain": [
              "   Aluno  Faltas  Prova  Seminário\n",
              "2  Harry       2      5        9.0"
            ]
          },
          "metadata": {
            "tags": []
          },
          "execution_count": 19
        }
      ]
    },
    {
      "cell_type": "markdown",
      "metadata": {
        "id": "LlXnrr58JPGL",
        "colab_type": "text"
      },
      "source": [
        "### Lendo e organizando os dados"
      ]
    },
    {
      "cell_type": "code",
      "metadata": {
        "id": "-FuESFCTJPGM",
        "colab_type": "code",
        "outputId": "e4195474-4f4c-48c6-a0d0-bf8dc5548310",
        "colab": {
          "base_uri": "https://localhost:8080/",
          "height": 357
        }
      },
      "source": [
        "import matplotlib.pyplot as plt \n",
        "%matplotlib inline \n",
        "\n",
        "columns = ['DataHora', 'Bateria', 'DirVento', 'Pluvio', 'PressaoAtm', 'TempAr', 'TempSolo', 'UmidRel', 'VelVento']\n",
        "\n",
        "df = pd.read_csv('31050.csv')\n",
        "print(df.columns) \n",
        "df.columns = columns\n",
        "print(df.columns)  \n",
        "\n",
        "non_null_columns = [col for col in df.columns if df.loc[:, col].notna().any()]\n",
        "df = df.loc[:, non_null_columns]\n",
        "print(df.columns)   \n",
        "dtype={'DirVento': 'int32','Pluvio': 'float32', 'TempAr': 'int32', 'UmidRel': 'float32', 'VelVento':'int32'}\n",
        "print (df.head())"
      ],
      "execution_count": 0,
      "outputs": [
        {
          "output_type": "stream",
          "text": [
            "Index(['DataHora',\n",
            "       'Bateria (Volts                                             )',\n",
            "       'DirVento (oNV                                               )',\n",
            "       'Pluvio (mm                                                )',\n",
            "       'PressaoAtm (mB                                                )',\n",
            "       'TempAr (oC                                                )',\n",
            "       'TempSolo (oC                                                )',\n",
            "       'UmidRel (%                                                 )',\n",
            "       'VelVento (m/s                                               )'],\n",
            "      dtype='object')\n",
            "Index(['DataHora', 'Bateria', 'DirVento', 'Pluvio', 'PressaoAtm', 'TempAr',\n",
            "       'TempSolo', 'UmidRel', 'VelVento'],\n",
            "      dtype='object')\n",
            "Index(['DataHora', 'DirVento', 'Pluvio', 'TempAr', 'UmidRel', 'VelVento'], dtype='object')\n",
            "              DataHora  DirVento  Pluvio  TempAr  UmidRel  VelVento\n",
            "0  2019-05-21 20:49:00       108     0.0   27.80     82.4       2.0\n",
            "1  2019-05-21 20:48:00       108     1.2   24.86     93.5       1.0\n",
            "2  2019-05-21 20:47:00       139     1.2   24.86     93.5       1.0\n",
            "3  2019-05-21 20:32:00       108     0.0   27.80     82.4       2.0\n",
            "4  2019-05-21 20:31:00       108     1.2   24.86     93.5       1.0\n"
          ],
          "name": "stdout"
        }
      ]
    },
    {
      "cell_type": "code",
      "metadata": {
        "id": "KHxiAj7c1uHh",
        "colab_type": "code",
        "colab": {}
      },
      "source": [
        "from IPython.display import display_html\n",
        "from bs4 import BeautifulSoup\n",
        "\n",
        "import requests\n",
        "pagina = requests.get('http://sinda.crn.inpe.br/PCD/SITE/novo/site/tabela.php?id=31050')  \n",
        "\n",
        "soup = BeautifulSoup(pagina.text)\n",
        "tables = soup.findAll('table')\n",
        "table = pd.read_html(str(tables[1]), header=0)\n",
        "print(table[0])"
      ],
      "execution_count": 0,
      "outputs": []
    },
    {
      "cell_type": "code",
      "metadata": {
        "id": "y9Lx01Nb1qX_",
        "colab_type": "code",
        "colab": {}
      },
      "source": [
        "tables = pd.read_html(\n",
        "            'http://sinda.crn.inpe.br/PCD/SITE/novo/site/tabela.php?id=31050',\n",
        "            index_col=1, header=0)\n",
        "\n",
        "df1 = tables[0]\n",
        "df1\n",
        "\n",
        "df2 = tables[1]\n",
        "df2.describe()"
      ],
      "execution_count": 0,
      "outputs": []
    },
    {
      "cell_type": "code",
      "metadata": {
        "id": "D3z5xkaTJPGP",
        "colab_type": "code",
        "outputId": "b9088b69-0f59-4b85-afe0-6acf58ac2eda",
        "colab": {
          "base_uri": "https://localhost:8080/",
          "height": 297
        }
      },
      "source": [
        "dados.describe()"
      ],
      "execution_count": 0,
      "outputs": [
        {
          "output_type": "execute_result",
          "data": {
            "text/html": [
              "<div>\n",
              "<style scoped>\n",
              "    .dataframe tbody tr th:only-of-type {\n",
              "        vertical-align: middle;\n",
              "    }\n",
              "\n",
              "    .dataframe tbody tr th {\n",
              "        vertical-align: top;\n",
              "    }\n",
              "\n",
              "    .dataframe thead th {\n",
              "        text-align: right;\n",
              "    }\n",
              "</style>\n",
              "<table border=\"1\" class=\"dataframe\">\n",
              "  <thead>\n",
              "    <tr style=\"text-align: right;\">\n",
              "      <th></th>\n",
              "      <th>DirVento</th>\n",
              "      <th>Pluvio</th>\n",
              "      <th>TempAr</th>\n",
              "      <th>UmidRel</th>\n",
              "      <th>VelVento</th>\n",
              "    </tr>\n",
              "  </thead>\n",
              "  <tbody>\n",
              "    <tr>\n",
              "      <th>count</th>\n",
              "      <td>805.000000</td>\n",
              "      <td>805.000000</td>\n",
              "      <td>805.000000</td>\n",
              "      <td>805.000000</td>\n",
              "      <td>803.000000</td>\n",
              "    </tr>\n",
              "    <tr>\n",
              "      <th>mean</th>\n",
              "      <td>203.550311</td>\n",
              "      <td>1.351553</td>\n",
              "      <td>30.647652</td>\n",
              "      <td>83.687329</td>\n",
              "      <td>5.256538</td>\n",
              "    </tr>\n",
              "    <tr>\n",
              "      <th>std</th>\n",
              "      <td>383.368030</td>\n",
              "      <td>5.934802</td>\n",
              "      <td>32.557755</td>\n",
              "      <td>31.806149</td>\n",
              "      <td>23.654125</td>\n",
              "    </tr>\n",
              "    <tr>\n",
              "      <th>min</th>\n",
              "      <td>43.000000</td>\n",
              "      <td>0.000000</td>\n",
              "      <td>-46.260000</td>\n",
              "      <td>6.300000</td>\n",
              "      <td>0.000000</td>\n",
              "    </tr>\n",
              "    <tr>\n",
              "      <th>25%</th>\n",
              "      <td>110.000000</td>\n",
              "      <td>0.000000</td>\n",
              "      <td>26.260000</td>\n",
              "      <td>75.300000</td>\n",
              "      <td>1.000000</td>\n",
              "    </tr>\n",
              "    <tr>\n",
              "      <th>50%</th>\n",
              "      <td>151.000000</td>\n",
              "      <td>0.000000</td>\n",
              "      <td>27.100000</td>\n",
              "      <td>79.800000</td>\n",
              "      <td>2.000000</td>\n",
              "    </tr>\n",
              "    <tr>\n",
              "      <th>75%</th>\n",
              "      <td>180.000000</td>\n",
              "      <td>0.000000</td>\n",
              "      <td>27.940000</td>\n",
              "      <td>83.800000</td>\n",
              "      <td>2.000000</td>\n",
              "    </tr>\n",
              "    <tr>\n",
              "      <th>max</th>\n",
              "      <td>4055.000000</td>\n",
              "      <td>51.000000</td>\n",
              "      <td>457.880000</td>\n",
              "      <td>409.500000</td>\n",
              "      <td>255.000000</td>\n",
              "    </tr>\n",
              "  </tbody>\n",
              "</table>\n",
              "</div>"
            ],
            "text/plain": [
              "          DirVento      Pluvio      TempAr     UmidRel    VelVento\n",
              "count   805.000000  805.000000  805.000000  805.000000  803.000000\n",
              "mean    203.550311    1.351553   30.647652   83.687329    5.256538\n",
              "std     383.368030    5.934802   32.557755   31.806149   23.654125\n",
              "min      43.000000    0.000000  -46.260000    6.300000    0.000000\n",
              "25%     110.000000    0.000000   26.260000   75.300000    1.000000\n",
              "50%     151.000000    0.000000   27.100000   79.800000    2.000000\n",
              "75%     180.000000    0.000000   27.940000   83.800000    2.000000\n",
              "max    4055.000000   51.000000  457.880000  409.500000  255.000000"
            ]
          },
          "metadata": {
            "tags": []
          },
          "execution_count": 11
        }
      ]
    },
    {
      "cell_type": "code",
      "metadata": {
        "id": "jOPaBIki2SfL",
        "colab_type": "code",
        "outputId": "da49d9eb-c266-400c-a428-a1c9ddcc188d",
        "colab": {
          "base_uri": "https://localhost:8080/",
          "height": 206
        }
      },
      "source": [
        "df.head(n=10)\n"
      ],
      "execution_count": 0,
      "outputs": [
        {
          "output_type": "execute_result",
          "data": {
            "text/html": [
              "<div>\n",
              "<style scoped>\n",
              "    .dataframe tbody tr th:only-of-type {\n",
              "        vertical-align: middle;\n",
              "    }\n",
              "\n",
              "    .dataframe tbody tr th {\n",
              "        vertical-align: top;\n",
              "    }\n",
              "\n",
              "    .dataframe thead th {\n",
              "        text-align: right;\n",
              "    }\n",
              "</style>\n",
              "<table border=\"1\" class=\"dataframe\">\n",
              "  <thead>\n",
              "    <tr style=\"text-align: right;\">\n",
              "      <th></th>\n",
              "      <th>Aluno</th>\n",
              "      <th>Faltas</th>\n",
              "      <th>Prova</th>\n",
              "      <th>Seminário</th>\n",
              "    </tr>\n",
              "  </thead>\n",
              "  <tbody>\n",
              "    <tr>\n",
              "      <th>0</th>\n",
              "      <td>Wilfred</td>\n",
              "      <td>3</td>\n",
              "      <td>2</td>\n",
              "      <td>8.5</td>\n",
              "    </tr>\n",
              "    <tr>\n",
              "      <th>1</th>\n",
              "      <td>Abbie</td>\n",
              "      <td>4</td>\n",
              "      <td>7</td>\n",
              "      <td>7.5</td>\n",
              "    </tr>\n",
              "    <tr>\n",
              "      <th>2</th>\n",
              "      <td>Harry</td>\n",
              "      <td>2</td>\n",
              "      <td>5</td>\n",
              "      <td>9.0</td>\n",
              "    </tr>\n",
              "    <tr>\n",
              "      <th>3</th>\n",
              "      <td>Julia</td>\n",
              "      <td>1</td>\n",
              "      <td>10</td>\n",
              "      <td>7.5</td>\n",
              "    </tr>\n",
              "    <tr>\n",
              "      <th>4</th>\n",
              "      <td>Carrie</td>\n",
              "      <td>4</td>\n",
              "      <td>6</td>\n",
              "      <td>8.0</td>\n",
              "    </tr>\n",
              "  </tbody>\n",
              "</table>\n",
              "</div>"
            ],
            "text/plain": [
              "     Aluno  Faltas  Prova  Seminário\n",
              "0  Wilfred       3      2        8.5\n",
              "1    Abbie       4      7        7.5\n",
              "2    Harry       2      5        9.0\n",
              "3    Julia       1     10        7.5\n",
              "4   Carrie       4      6        8.0"
            ]
          },
          "metadata": {
            "tags": []
          },
          "execution_count": 22
        }
      ]
    },
    {
      "cell_type": "code",
      "metadata": {
        "id": "rMuVXQhZ9Dfb",
        "colab_type": "code",
        "outputId": "f830c5aa-24d2-4a14-d601-634a0acd3696",
        "colab": {
          "base_uri": "https://localhost:8080/",
          "height": 172
        }
      },
      "source": [
        "\n",
        "sum(dados.UmidRel)"
      ],
      "execution_count": 0,
      "outputs": [
        {
          "output_type": "error",
          "ename": "NameError",
          "evalue": "ignored",
          "traceback": [
            "\u001b[0;31m---------------------------------------------------------------------------\u001b[0m",
            "\u001b[0;31mNameError\u001b[0m                                 Traceback (most recent call last)",
            "\u001b[0;32m<ipython-input-24-cd67307ea95f>\u001b[0m in \u001b[0;36m<module>\u001b[0;34m()\u001b[0m\n\u001b[0;32m----> 1\u001b[0;31m \u001b[0msum\u001b[0m\u001b[0;34m(\u001b[0m\u001b[0mdados\u001b[0m\u001b[0;34m.\u001b[0m\u001b[0mUmidRel\u001b[0m\u001b[0;34m)\u001b[0m\u001b[0;34m\u001b[0m\u001b[0;34m\u001b[0m\u001b[0m\n\u001b[0m",
            "\u001b[0;31mNameError\u001b[0m: name 'dados' is not defined"
          ]
        }
      ]
    },
    {
      "cell_type": "code",
      "metadata": {
        "id": "za1IxG-69xa8",
        "colab_type": "code",
        "colab": {}
      },
      "source": [
        "import seaborn as sns\n",
        "sns.set(style=\"whitegrid\") \n",
        "sns.set(rc={'figure.figsize':(11.7,8.27)})"
      ],
      "execution_count": 0,
      "outputs": []
    },
    {
      "cell_type": "code",
      "metadata": {
        "id": "gfHLk8UU-F8R",
        "colab_type": "code",
        "outputId": "9fcee634-d2e3-401d-b969-ef08a849c4f1",
        "colab": {
          "base_uri": "https://localhost:8080/",
          "height": 540
        }
      },
      "source": [
        "sns.distplot(dados.UmidRel)"
      ],
      "execution_count": 0,
      "outputs": [
        {
          "output_type": "execute_result",
          "data": {
            "text/plain": [
              "<matplotlib.axes._subplots.AxesSubplot at 0x7f41f6526128>"
            ]
          },
          "metadata": {
            "tags": []
          },
          "execution_count": 18
        },
        {
          "output_type": "display_data",
          "data": {
            "image/png": "[encoded data removed]",
            "text/plain": [
              "<Figure size 842.4x595.44 with 1 Axes>"
            ]
          },
          "metadata": {
            "tags": []
          }
        }
      ]
    },
    {
      "cell_type": "code",
      "metadata": {
        "id": "2EV42XL3-NJW",
        "colab_type": "code",
        "outputId": "84cb1c5c-ffc0-4f9e-89ad-60ef9b0789bc",
        "colab": {
          "base_uri": "https://localhost:8080/",
          "height": 540
        }
      },
      "source": [
        "sns.distplot(dados.TempAr)"
      ],
      "execution_count": 0,
      "outputs": [
        {
          "output_type": "execute_result",
          "data": {
            "text/plain": [
              "<matplotlib.axes._subplots.AxesSubplot at 0x7f41f1ba7a20>"
            ]
          },
          "metadata": {
            "tags": []
          },
          "execution_count": 20
        },
        {
          "output_type": "display_data",
          "data": {
            "image/png": "[encoded data removed]",
            "text/plain": [
              "<Figure size 842.4x595.44 with 1 Axes>"
            ]
          },
          "metadata": {
            "tags": []
          }
        }
      ]
    }
  ]
}