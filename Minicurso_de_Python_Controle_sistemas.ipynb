{
  "nbformat": 4,
  "nbformat_minor": 0,
  "metadata": {
    "colab": {
      "name": "Minicurso de Python - Controle_sistemas.ipynb",
      "provenance": [],
      "include_colab_link": true
    },
    "kernelspec": {
      "name": "python3",
      "display_name": "Python 3"
    }
  },
  "cells": [
    {
      "cell_type": "markdown",
      "metadata": {
        "id": "view-in-github",
        "colab_type": "text"
      },
      "source": [
        "<a href=\"https://colab.research.google.com/github/daviafs/minicurso_python/blob/master/Minicurso_de_Python_Controle_sistemas.ipynb\" target=\"_parent\"><img src=\"https://colab.research.google.com/assets/colab-badge.svg\" alt=\"Open In Colab\"/></a>"
      ]
    },
    {
      "cell_type": "markdown",
      "metadata": {
        "id": "rOVu5rL8CFEX",
        "colab_type": "text"
      },
      "source": [
        "Incialmentte vamos istalar as dependencias necessárias:"
      ]
    },
    {
      "cell_type": "code",
      "metadata": {
        "id": "wBbVicD0B8h1",
        "colab_type": "code",
        "outputId": "9613210f-2cec-440a-a898-5f035a8eea23",
        "colab": {
          "base_uri": "https://localhost:8080/",
          "height": 348
        }
      },
      "source": [
        "pip install control"
      ],
      "execution_count": 0,
      "outputs": [
        {
          "output_type": "stream",
          "text": [
            "Collecting control\n",
            "\u001b[?25l  Downloading https://files.pythonhosted.org/packages/97/ea/1509ae6885d6928f9bd6097de71f68d23da02e6ab647e3fc4dbe893288c2/control-0.8.2.tar.gz (182kB)\n",
            "\u001b[K     |████████████████████████████████| 184kB 5.0MB/s \n",
            "\u001b[?25hRequirement already satisfied: numpy in /usr/local/lib/python3.6/dist-packages (from control) (1.16.3)\n",
            "Requirement already satisfied: scipy in /usr/local/lib/python3.6/dist-packages (from control) (1.3.0)\n",
            "Requirement already satisfied: matplotlib in /usr/local/lib/python3.6/dist-packages (from control) (3.0.3)\n",
            "Requirement already satisfied: cycler>=0.10 in /usr/local/lib/python3.6/dist-packages (from matplotlib->control) (0.10.0)\n",
            "Requirement already satisfied: python-dateutil>=2.1 in /usr/local/lib/python3.6/dist-packages (from matplotlib->control) (2.5.3)\n",
            "Requirement already satisfied: kiwisolver>=1.0.1 in /usr/local/lib/python3.6/dist-packages (from matplotlib->control) (1.1.0)\n",
            "Requirement already satisfied: pyparsing!=2.0.4,!=2.1.2,!=2.1.6,>=2.0.1 in /usr/local/lib/python3.6/dist-packages (from matplotlib->control) (2.4.0)\n",
            "Requirement already satisfied: six in /usr/local/lib/python3.6/dist-packages (from cycler>=0.10->matplotlib->control) (1.12.0)\n",
            "Requirement already satisfied: setuptools in /usr/local/lib/python3.6/dist-packages (from kiwisolver>=1.0.1->matplotlib->control) (41.0.1)\n",
            "Building wheels for collected packages: control\n",
            "  Building wheel for control (setup.py) ... \u001b[?25l\u001b[?25hdone\n",
            "  Stored in directory: /root/.cache/pip/wheels/62/70/b3/4ff8c0348172e6b1fa8c9c2f1388e80d3e86f15f27d63c2e23\n",
            "Successfully built control\n",
            "Installing collected packages: control\n",
            "Successfully installed control-0.8.2\n"
          ],
          "name": "stdout"
        }
      ]
    },
    {
      "cell_type": "markdown",
      "metadata": {
        "id": "9lde6I6uHhRF",
        "colab_type": "text"
      },
      "source": [
        "### INTRODUÇÃO\n",
        "\n",
        "O passo inicial será definiçao dos sistemas, por meio da função **ss**, que gera um sitema estado-espaço.\n",
        "\n",
        "Equações estado-espaço são as formas matriciais de equacaões diferenciais ordinárias, utilizadas para modelar sistemas.\n",
        "\n",
        "![alt text](https://i.ibb.co/RYMGjsC/Screenshot-2.png)\n",
        "\n",
        "X= Ax + Bu\n",
        "\n",
        "Y = Cx + Du\n",
        "\n",
        "![alt text](https://i.ibb.co/R6jM6jL/4df89b82-5934-4240-b2bd-a463c12500dd.jpg)\n",
        "\n"
      ]
    },
    {
      "cell_type": "code",
      "metadata": {
        "id": "4QiS_j_rd1gZ",
        "colab_type": "code",
        "outputId": "69e5ac8d-d93d-47f8-944b-47a62d10621a",
        "colab": {
          "base_uri": "https://localhost:8080/",
          "height": 568
        }
      },
      "source": [
        "import control\n",
        "\n",
        "A=\"1. -2; 3. -4\" #string\n",
        "B=\"5.; 7\"\n",
        "C= \"6. 8\"\n",
        "D= \"0\"\n",
        "sys = control.ss(A,B,C,D) #sistema estado espaço\n",
        "print(sys)\n",
        "\n",
        "A2 = \"2. 4; 8. 6.\"\n",
        "B2 = \"0; 1.\"\n",
        "C2 = \"1. 1.\"\n",
        "D2 = \"0\"\n",
        "sys_class = control.ss(A2, B2, C2, D2)\n",
        "print(sys_class)\n",
        "\n",
        "\n",
        "#FUNÇÃO TRANSFERENCIA DOS SISTEMAS\n",
        "\n",
        "transf =  control.tf(sys)\n",
        "transf2 = control.tf(sys_class)\n",
        "\n",
        "print(transf)\n",
        "print(transf2)\n"
      ],
      "execution_count": 0,
      "outputs": [
        {
          "output_type": "stream",
          "text": [
            "A = [[ 1. -2.]\n",
            " [ 3. -4.]]\n",
            "\n",
            "B = [[5.]\n",
            " [7.]]\n",
            "\n",
            "C = [[6. 8.]]\n",
            "\n",
            "D = [[0.]]\n",
            "\n",
            "A = [[2. 4.]\n",
            " [8. 6.]]\n",
            "\n",
            "B = [[0.]\n",
            " [1.]]\n",
            "\n",
            "C = [[1. 1.]]\n",
            "\n",
            "D = [[0.]]\n",
            "\n",
            "\n",
            "  86 s + 100\n",
            "-------------\n",
            "s^2 + 3 s + 2\n",
            "\n",
            "\n",
            "    s + 2\n",
            "--------------\n",
            "s^2 - 8 s - 20\n",
            "\n"
          ],
          "name": "stdout"
        }
      ]
    },
    {
      "cell_type": "markdown",
      "metadata": {
        "id": "bztwfRvMQLVx",
        "colab_type": "text"
      },
      "source": [
        "### POLOS E ZEROS"
      ]
    },
    {
      "cell_type": "code",
      "metadata": {
        "id": "nWHuDkHXHYzQ",
        "colab_type": "code",
        "outputId": "0a8fc61d-d00a-4832-deb8-4d6fe89cd878",
        "colab": {
          "base_uri": "https://localhost:8080/",
          "height": 350
        }
      },
      "source": [
        "polos = control.pole(transf)\n",
        "zeros = control.zero(transf)\n",
        "print(\"POLOS:\", polos)\n",
        "print(\"ZEROS:\", zeros)\n",
        "control.pzmap(transf)\n"
      ],
      "execution_count": 0,
      "outputs": [
        {
          "output_type": "stream",
          "text": [
            "POLOS: [-2. -1.]\n",
            "ZEROS: [-1.1627907]\n"
          ],
          "name": "stdout"
        },
        {
          "output_type": "execute_result",
          "data": {
            "text/plain": [
              "(array([-2., -1.]), array([-1.1627907]))"
            ]
          },
          "metadata": {
            "tags": []
          },
          "execution_count": 4
        },
        {
          "output_type": "display_data",
          "data": {
            "image/png": "[encoded data removed]",
            "text/plain": [
              "<Figure size 432x288 with 1 Axes>"
            ]
          },
          "metadata": {
            "tags": []
          }
        }
      ]
    },
    {
      "cell_type": "code",
      "metadata": {
        "id": "qlnHMdTBCi1-",
        "colab_type": "code",
        "outputId": "79d8f0b7-c754-4fba-a125-814a479d658d",
        "colab": {
          "base_uri": "https://localhost:8080/",
          "height": 350
        }
      },
      "source": [
        "polos2 = control.pole(sys_class)\n",
        "zeros2 = control.zero(transf2)\n",
        "print(\"POLOS:\", polos2)\n",
        "print(\"ZEROS:\", zeros2)\n",
        "control.pzmap(transf2)"
      ],
      "execution_count": 0,
      "outputs": [
        {
          "output_type": "stream",
          "text": [
            "POLOS: [-2. 10.]\n",
            "ZEROS: [-2.]\n"
          ],
          "name": "stdout"
        },
        {
          "output_type": "execute_result",
          "data": {
            "text/plain": [
              "(array([10., -2.]), array([-2.]))"
            ]
          },
          "metadata": {
            "tags": []
          },
          "execution_count": 5
        },
        {
          "output_type": "display_data",
          "data": {
            "image/png": "[encoded data removed]",
            "text/plain": [
              "<Figure size 432x288 with 1 Axes>"
            ]
          },
          "metadata": {
            "tags": []
          }
        }
      ]
    },
    {
      "cell_type": "markdown",
      "metadata": {
        "id": "uzZaQSD0O5xB",
        "colab_type": "text"
      },
      "source": [
        "### Representação de espaços de estados\n",
        "###CONTROLABILIDADE\n",
        "A controlabilidade é uma condição que está associada à capacidade de influenciar todos os estados através das entradas do sistema. \n"
      ]
    },
    {
      "cell_type": "code",
      "metadata": {
        "id": "NM4rtY8TM3C7",
        "colab_type": "code",
        "outputId": "3c59b11d-6034-47bc-ee6f-3d3f21a6957c",
        "colab": {
          "base_uri": "https://localhost:8080/",
          "height": 54
        }
      },
      "source": [
        "#MATRIZ CONTROLABILIDADE\n",
        "CTRL=control.ctrb(A2, B2)\n",
        "print(CTRL)"
      ],
      "execution_count": 0,
      "outputs": [
        {
          "output_type": "stream",
          "text": [
            "[[0. 4.]\n",
            " [1. 6.]]\n"
          ],
          "name": "stdout"
        }
      ]
    },
    {
      "cell_type": "markdown",
      "metadata": {
        "id": "zaQT968EOm9F",
        "colab_type": "text"
      },
      "source": [
        "### OBSERVABILIDADE\n",
        "A observabilidade está associada à capacidade de “ver” todos os estados do sistema por meio das saídas do sistema. \n",
        "\n",
        "Um sistema é observavel quando o determinante entre A e C = 0.\n",
        "\n",
        "No exemplo abaixo o sistema é não observavel por que o determinante é dferente de 0."
      ]
    },
    {
      "cell_type": "code",
      "metadata": {
        "id": "ckfNXsziNEuT",
        "colab_type": "code",
        "outputId": "169a9d83-2d1c-4d1d-a690-d9a33c9faf1b",
        "colab": {
          "base_uri": "https://localhost:8080/",
          "height": 52
        }
      },
      "source": [
        "#MATRIZ OBSERVABILIDADE\n",
        "\n",
        "OB=control.obsv(\"2. 4; 8. 6.\", \"1. 1.\")\n",
        "print(OB)"
      ],
      "execution_count": 0,
      "outputs": [
        {
          "output_type": "stream",
          "text": [
            "[[ 1.  1.]\n",
            " [10. 10.]]\n"
          ],
          "name": "stdout"
        }
      ]
    },
    {
      "cell_type": "markdown",
      "metadata": {
        "id": "yVCShac4DvMM",
        "colab_type": "text"
      },
      "source": [
        "### GRÁFICOS DE BODE"
      ]
    },
    {
      "cell_type": "code",
      "metadata": {
        "id": "cuJbu2W4_uXH",
        "colab_type": "code",
        "outputId": "4c0b6397-5bd1-4645-c4fd-66c67980e695",
        "colab": {
          "base_uri": "https://localhost:8080/",
          "height": 860
        }
      },
      "source": [
        "control.bode_plot(transf2)\n",
        "#mag, phase, omega = control.bode(sys)\n"
      ],
      "execution_count": 0,
      "outputs": [
        {
          "output_type": "execute_result",
          "data": {
            "text/plain": [
              "(array([0.099995  , 0.09999337, 0.09999121, 0.09998835, 0.09998456,\n",
              "        0.09997953, 0.09997287, 0.09996404, 0.09995233, 0.09993682,\n",
              "        0.09991626, 0.09988904, 0.09985297, 0.09980522, 0.09974203,\n",
              "        0.09965843, 0.09954793, 0.09940201, 0.09920954, 0.0989561 ,\n",
              "        0.09862309, 0.09818674, 0.09761711, 0.09687699, 0.09592128,\n",
              "        0.09469682, 0.09314356, 0.0911975 , 0.08879617, 0.08588682,\n",
              "        0.08243694, 0.07844512, 0.07394955, 0.06903054, 0.06380504,\n",
              "        0.05841367, 0.05300326, 0.04770989, 0.04264622, 0.03789504,\n",
              "        0.0335087 , 0.02951261, 0.02591078, 0.02269173, 0.01983388,\n",
              "        0.0173098 , 0.0150894 , 0.01314213, 0.01143838, 0.00995037]),\n",
              " array([-3.13159299, -3.13007921, -3.12833632, -3.12632966, -3.12401936,\n",
              "        -3.12135952, -3.11829735, -3.11477213, -3.11071404, -3.10604283,\n",
              "        -3.10066637, -3.09447888, -3.08735913, -3.07916835, -3.06974795,\n",
              "        -3.05891726, -3.04647104, -3.03217727, -3.01577526, -2.99697451,\n",
              "        -2.97545499, -2.95086957, -2.92284993, -2.89101738, -2.85500055,\n",
              "        -2.81446186, -2.76913435, -2.71886907, -2.66369038, -2.6038522 ,\n",
              "        -2.53988351, -2.4726071 , -2.403117  , -2.33270737, -2.26276001,\n",
              "        -2.19461234, -2.12943533, -2.06814708, -2.01137417, -1.95945816,\n",
              "        -1.91249391, -1.87038385, -1.83289462, -1.79970754, -1.77045909,\n",
              "        -1.74477064, -1.72226893, -1.7025989 , -1.68543107, -1.67046498]),\n",
              " array([  0.1       ,   0.11513954,   0.13257114,   0.1526418 ,\n",
              "          0.17575106,   0.20235896,   0.23299518,   0.26826958,\n",
              "          0.30888436,   0.35564803,   0.40949151,   0.47148664,\n",
              "          0.54286754,   0.62505519,   0.71968567,   0.82864277,\n",
              "          0.95409548,   1.09854114,   1.26485522,   1.45634848,\n",
              "          1.67683294,   1.93069773,   2.22299648,   2.55954792,\n",
              "          2.9470517 ,   3.39322177,   3.90693994,   4.49843267,\n",
              "          5.17947468,   5.96362332,   6.86648845,   7.90604321,\n",
              "          9.10298178,  10.48113134,  12.06792641,  13.89495494,\n",
              "         15.9985872 ,  18.42069969,  21.20950888,  24.42053095,\n",
              "         28.11768698,  32.37457543,  37.2759372 ,  42.9193426 ,\n",
              "         49.41713361,  56.89866029,  65.51285569,  75.43120063,\n",
              "         86.85113738, 100.        ]))"
            ]
          },
          "metadata": {
            "tags": []
          },
          "execution_count": 57
        },
        {
          "output_type": "display_data",
          "data": {
            "image/png": "[encoded data removed]",
            "text/plain": [
              "<Figure size 432x288 with 2 Axes>"
            ]
          },
          "metadata": {
            "tags": []
          }
        }
      ]
    }
  ]
}