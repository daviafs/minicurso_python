{
  "nbformat": 4,
  "nbformat_minor": 0,
  "metadata": {
    "colab": {
      "name": "Minicurso de Python - intro.ipynb",
      "provenance": [],
      "collapsed_sections": [],
      "include_colab_link": true
    },
    "kernelspec": {
      "display_name": "Python 3",
      "language": "python",
      "name": "python3"
    }
  },
  "cells": [
    {
      "cell_type": "markdown",
      "metadata": {
        "id": "view-in-github",
        "colab_type": "text"
      },
      "source": [
        "<a href=\"https://colab.research.google.com/github/daviafs/minicurso_python/blob/master/Minicurso_de_Python_intro.ipynb\" target=\"_parent\"><img src=\"https://colab.research.google.com/assets/colab-badge.svg\" alt=\"Open In Colab\"/></a>"
      ]
    },
    {
      "cell_type": "markdown",
      "metadata": {
        "id": "ouX3cUz_Qf2C",
        "colab_type": "text"
      },
      "source": [
        "# Minicurso Python\n",
        "\n",
        "Vamos dar nosso primeiro passo. \n",
        "Vamos começar criando nosso primeiro programa e entendendo um pouco de como o `Python` funciona.\n",
        "\n",
        "Para saber mais, confire o [notebook](https://colab.research.google.com/drive/1YDzALu3TeLoqb7hEAQN6m-WFt17ZCPFz#scrollTo=5nAK0uZb3I-L) com mais detalhes."
      ]
    },
    {
      "cell_type": "code",
      "metadata": {
        "colab_type": "code",
        "id": "yjN1cg2JISmc",
        "outputId": "e4885959-4905-48c6-cd42-2e6700ca2710",
        "colab": {
          "base_uri": "https://localhost:8080/",
          "height": 35
        }
      },
      "source": [
        "print (\"Bem vindo\")"
      ],
      "execution_count": 2,
      "outputs": [
        {
          "output_type": "stream",
          "text": [
            "Bem vindo\n"
          ],
          "name": "stdout"
        }
      ]
    },
    {
      "cell_type": "code",
      "metadata": {
        "colab_type": "code",
        "id": "e31MjQiUIv_F",
        "outputId": "f791c6e7-20fa-439a-f650-89217dd65896",
        "colab": {
          "base_uri": "https://localhost:8080/",
          "height": 162
        }
      },
      "source": [
        "Print(\"Alô Mundo\")"
      ],
      "execution_count": 0,
      "outputs": [
        {
          "output_type": "error",
          "ename": "NameError",
          "evalue": "ignored",
          "traceback": [
            "\u001b[0;31m---------------------------------------------------------------------------\u001b[0m",
            "\u001b[0;31mNameError\u001b[0m                                 Traceback (most recent call last)",
            "\u001b[0;32m<ipython-input-3-9bdfaa5c07e6>\u001b[0m in \u001b[0;36m<module>\u001b[0;34m()\u001b[0m\n\u001b[0;32m----> 1\u001b[0;31m \u001b[0mPrint\u001b[0m\u001b[0;34m(\u001b[0m\u001b[0;34m\"Alô Mundo\"\u001b[0m\u001b[0;34m)\u001b[0m\u001b[0;34m\u001b[0m\u001b[0;34m\u001b[0m\u001b[0m\n\u001b[0m",
            "\u001b[0;31mNameError\u001b[0m: name 'Print' is not defined"
          ]
        }
      ]
    },
    {
      "cell_type": "markdown",
      "metadata": {
        "colab_type": "text",
        "id": "Vcycg0uFUfAw"
      },
      "source": [
        "**OPA**, algo deu errado. Primeira coisa que notamos aqui é que Python diferencia letras maiusculas de menusculas"
      ]
    },
    {
      "cell_type": "code",
      "metadata": {
        "colab_type": "code",
        "id": "owdIHs0BIyr0",
        "outputId": "48e77729-b21c-406c-cb79-c4099c528369",
        "colab": {
          "base_uri": "https://localhost:8080/",
          "height": 137
        }
      },
      "source": [
        "print (Alô Mundo)"
      ],
      "execution_count": 1,
      "outputs": [
        {
          "output_type": "error",
          "ename": "SyntaxError",
          "evalue": "ignored",
          "traceback": [
            "\u001b[0;36m  File \u001b[0;32m\"<ipython-input-1-7776c0466610>\"\u001b[0;36m, line \u001b[0;32m1\u001b[0m\n\u001b[0;31m    print (Alô Mundo)\u001b[0m\n\u001b[0m                   ^\u001b[0m\n\u001b[0;31mSyntaxError\u001b[0m\u001b[0;31m:\u001b[0m invalid syntax\n"
          ]
        }
      ]
    },
    {
      "cell_type": "markdown",
      "metadata": {
        "id": "LGFLmkrPQf2j",
        "colab_type": "text"
      },
      "source": [
        "Se não utilizarmos aspas, o computador interpretará nossa mensagem como um comando da linguagem Python, gerando um erro de sintaxe"
      ]
    },
    {
      "cell_type": "code",
      "metadata": {
        "colab_type": "code",
        "id": "GsrXwJn0I07E",
        "colab": {}
      },
      "source": [
        "print \"Alô Mundo\""
      ],
      "execution_count": 0,
      "outputs": []
    },
    {
      "cell_type": "markdown",
      "metadata": {
        "id": "gB4uJ3JGQf2q",
        "colab_type": "text"
      },
      "source": [
        "Mas quem esta fazendo isso dar certo? Qual a diferença entre o texto comum e o que estamos escrevendo em `Python`?"
      ]
    },
    {
      "cell_type": "markdown",
      "metadata": {
        "id": "UJW-kcW2Qf2r",
        "colab_type": "text"
      },
      "source": [
        "### Tipos"
      ]
    },
    {
      "cell_type": "code",
      "metadata": {
        "colab_type": "code",
        "id": "pjZvd67SI3rt",
        "outputId": "da550286-ba86-4cc4-c45d-c7a8dd428882",
        "colab": {
          "base_uri": "https://localhost:8080/",
          "height": 34
        }
      },
      "source": [
        "nome = \"Epaminondas\"\n",
        "\n",
        "print(type(nome))"
      ],
      "execution_count": 0,
      "outputs": [
        {
          "output_type": "stream",
          "text": [
            "<class 'str'>\n"
          ],
          "name": "stdout"
        }
      ]
    },
    {
      "cell_type": "code",
      "metadata": {
        "colab_type": "code",
        "id": "ChQcGhi7I-Fc",
        "outputId": "d2c4a6a5-534b-48e9-85ee-3be5b9373380",
        "colab": {
          "base_uri": "https://localhost:8080/",
          "height": 34
        }
      },
      "source": [
        "resposta = 42\n",
        "\n",
        "print(type(resposta))"
      ],
      "execution_count": 0,
      "outputs": [
        {
          "output_type": "stream",
          "text": [
            "<class 'int'>\n"
          ],
          "name": "stdout"
        }
      ]
    },
    {
      "cell_type": "code",
      "metadata": {
        "colab_type": "code",
        "id": "oSj1zSxMJG8u",
        "outputId": "7cb010c4-cf65-4bff-bb57-19dad3acb988",
        "colab": {
          "base_uri": "https://localhost:8080/",
          "height": 34
        }
      },
      "source": [
        "nome = \"rafa\"\n",
        "\n",
        "resposta = \"python\"\n",
        "\n",
        "print (nome + \" gosta de \" + resposta)"
      ],
      "execution_count": 0,
      "outputs": [
        {
          "output_type": "stream",
          "text": [
            "rafa gosta de python\n"
          ],
          "name": "stdout"
        }
      ]
    },
    {
      "cell_type": "code",
      "metadata": {
        "colab_type": "code",
        "id": "owkVfpwBJIAt",
        "colab": {}
      },
      "source": [
        "nome = \"rafa\"\n",
        "\n",
        "resposta = \"python\"\n",
        "\n",
        "print (f'{nome} gosta de {resposta}')"
      ],
      "execution_count": 0,
      "outputs": []
    },
    {
      "cell_type": "code",
      "metadata": {
        "colab_type": "code",
        "id": "zKMcMQlRJI-L",
        "colab": {}
      },
      "source": [
        "nome = 'teste' \n",
        "print(nome.upper())"
      ],
      "execution_count": 0,
      "outputs": []
    },
    {
      "cell_type": "markdown",
      "metadata": {
        "id": "8shJaE0_Qf3C",
        "colab_type": "text"
      },
      "source": [
        "Existem alguns tipos mais complexos, como as listas."
      ]
    },
    {
      "cell_type": "code",
      "metadata": {
        "id": "rBwrU-VFQf3D",
        "colab_type": "code",
        "colab": {}
      },
      "source": [
        "a = [66.25, 333, 333, 1, 1234.5]\n",
        "print(a)"
      ],
      "execution_count": 0,
      "outputs": []
    },
    {
      "cell_type": "code",
      "metadata": {
        "id": "3091BjezQf3H",
        "colab_type": "code",
        "colab": {}
      },
      "source": [
        "a.insert(5, 55)\n",
        "print(a)"
      ],
      "execution_count": 0,
      "outputs": []
    },
    {
      "cell_type": "code",
      "metadata": {
        "id": "kz5xQVrKQf3K",
        "colab_type": "code",
        "colab": {}
      },
      "source": [
        "a.remove(333)\n",
        "print(a)"
      ],
      "execution_count": 0,
      "outputs": []
    },
    {
      "cell_type": "code",
      "metadata": {
        "id": "4ECxwaafQf3N",
        "colab_type": "code",
        "colab": {}
      },
      "source": [
        "a.sort()\n",
        "print(a)"
      ],
      "execution_count": 0,
      "outputs": []
    },
    {
      "cell_type": "code",
      "metadata": {
        "id": "VBLuHSH6Qf3S",
        "colab_type": "code",
        "colab": {}
      },
      "source": [
        "a.reverse()\n",
        "print(a)"
      ],
      "execution_count": 0,
      "outputs": []
    },
    {
      "cell_type": "markdown",
      "metadata": {
        "id": "13OCuutH6ZbX",
        "colab_type": "text"
      },
      "source": [
        "### Operadores Lógicos\n",
        "\n",
        "Observe as seguintes frases:\n",
        "\n",
        "*\"Minha lista de compras é **igual** a sua lista de compras?\"*\n",
        "\n",
        "*\"Minha altura é **maior** que a sua?\"*\n",
        "\n",
        "*\"Sua nota foi **menor** que a dele?\"*\n",
        "\n",
        "*\"Esses preços são **diferentes**?\"*\n",
        "\n",
        "*\"Eu não aceito nada menos que isso. É **daqui pra cima**!\"*\n",
        "\n",
        "*\"Podemos negociar se o preço for **menor ou igual** a isso\"*\n",
        "\n",
        "Você notou os trechos em negritos? Eles podem ser representados em linguagem de programação usando o que chamamos de **operadores lógicos**. \n",
        "Eles normalmente vão vir entre duas setenças, por exemplo *\"minha altura\"* e *\"sua altura\"*, e o resultado da operação deles vai ser `Verdadeiro` ou `Falso`."
      ]
    },
    {
      "cell_type": "code",
      "metadata": {
        "id": "s_mbyZPW7yBc",
        "colab_type": "code",
        "outputId": "0bd6506b-a9dc-4d1c-b55b-09a2d7a3b07e",
        "colab": {
          "base_uri": "https://localhost:8080/",
          "height": 120
        }
      },
      "source": [
        "minha_lista = ['banana', 'pera', 'tapioca']\n",
        "sua_lista = ['banana', 'pera', 'ovo']\n",
        "print(minha_lista == sua_lista) \n",
        "\n",
        "minha_altura = 164\n",
        "sua_altura = 154\n",
        "print(minha_altura > sua_altura)\n",
        "\n",
        "sua_nota = 9\n",
        "nota_dele = 5\n",
        "print(sua_nota < nota_dele)\n",
        "\n",
        "preço1 = 67\n",
        "preço2 = 66\n",
        "print(preço1 != preço2)\n",
        "\n",
        "o_que_eu_aceito = 10\n",
        "print(12 >= o_que_eu_aceito)\n",
        "\n",
        "preço = 60\n",
        "print(40 <= preço)"
      ],
      "execution_count": 0,
      "outputs": [
        {
          "output_type": "stream",
          "text": [
            "False\n",
            "True\n",
            "False\n",
            "True\n",
            "True\n",
            "True\n"
          ],
          "name": "stdout"
        }
      ]
    },
    {
      "cell_type": "markdown",
      "metadata": {
        "id": "7UXcreVU834a",
        "colab_type": "text"
      },
      "source": [
        "Existem outros operadores lógicos bastante utilizados. Vamos ver algumas outras frases:\n",
        "\n",
        "*\"Sua nota deve ser maior que 3 **e** menor que 5 para ir pra quarta prova.\"\"*\n",
        "\n",
        "*\"Se sua nota for menor que 2 **ou** maior que 5 seu caso é especial\"*\n",
        "\n",
        "*Você **não** foi aprovado*"
      ]
    },
    {
      "cell_type": "code",
      "metadata": {
        "id": "lkSXmcWB9daR",
        "colab_type": "code",
        "outputId": "5731615c-3a77-4dd4-e843-0319ac3ee18d",
        "colab": {
          "base_uri": "https://localhost:8080/",
          "height": 68
        }
      },
      "source": [
        "nota = 2\n",
        "print(nota > 3 and nota < 5)\n",
        "\n",
        "nota = 2\n",
        "print(nota < 3 or nota > 5)\n",
        "\n",
        "aprovado = True\n",
        "print(not aprovado)"
      ],
      "execution_count": 0,
      "outputs": [
        {
          "output_type": "stream",
          "text": [
            "True\n",
            "True\n",
            "False\n"
          ],
          "name": "stdout"
        }
      ]
    },
    {
      "cell_type": "markdown",
      "metadata": {
        "id": "cJ6NzGZv-QMy",
        "colab_type": "text"
      },
      "source": [
        "### Entrada de Dados\n",
        "\n",
        "Até agora nossos programas trabalharam com valores e que no geral não mudam ao logo do código. Nem sempre isso acontece... as vezes você quer escutar a opinião do usuário... como perguntar a ele qual o conteúdo das nossas variáveis?"
      ]
    },
    {
      "cell_type": "code",
      "metadata": {
        "id": "ThLxWJ12-jxR",
        "colab_type": "code",
        "outputId": "276c019f-bcac-4a67-b8ca-ed30a3eab998",
        "colab": {
          "base_uri": "https://localhost:8080/",
          "height": 51
        }
      },
      "source": [
        "nome = input(\"nome: \")\n",
        "print('olá, ', nome)"
      ],
      "execution_count": 0,
      "outputs": [
        {
          "output_type": "stream",
          "text": [
            "nome: fernanda\n",
            "olá,  fernanda\n"
          ],
          "name": "stdout"
        }
      ]
    },
    {
      "cell_type": "markdown",
      "metadata": {
        "id": "bqA5uEdp_mPF",
        "colab_type": "text"
      },
      "source": [
        "Teste fazer outras perguntas ao usuário."
      ]
    },
    {
      "cell_type": "markdown",
      "metadata": {
        "id": "A-g9Fldd-xJB",
        "colab_type": "text"
      },
      "source": [
        "### Conversão de Dados\n",
        "\n",
        "Vamos dar uma olhada no código a seguir... talvez ele nos ajude a entender a conversão de dados:"
      ]
    },
    {
      "cell_type": "code",
      "metadata": {
        "id": "7rtxLeT-_Lga",
        "colab_type": "code",
        "outputId": "8408548e-359c-40f0-f4dc-ddb55c86ae8f",
        "colab": {
          "base_uri": "https://localhost:8080/",
          "height": 130
        }
      },
      "source": [
        "preço = \"43\"\n",
        "taxa = 3\n",
        "print(preço * taxa) "
      ],
      "execution_count": 0,
      "outputs": [
        {
          "output_type": "error",
          "ename": "IndentationError",
          "evalue": "ignored",
          "traceback": [
            "\u001b[0;36m  File \u001b[0;32m\"<ipython-input-6-46b8b4d63431>\"\u001b[0;36m, line \u001b[0;32m5\u001b[0m\n\u001b[0;31m    print(taxa)\u001b[0m\n\u001b[0m        ^\u001b[0m\n\u001b[0;31mIndentationError\u001b[0m\u001b[0;31m:\u001b[0m expected an indented block\n"
          ]
        }
      ]
    },
    {
      "cell_type": "markdown",
      "metadata": {
        "id": "_7J9HsoK_ZBc",
        "colab_type": "text"
      },
      "source": [
        "Você estava esperando esse resultado? Consegue imaginar por que isso aconteceu? Vamos discutir um pouco e pensar numa solução."
      ]
    },
    {
      "cell_type": "code",
      "metadata": {
        "id": "pSo004wn_kNr",
        "colab_type": "code",
        "colab": {}
      },
      "source": [
        ""
      ],
      "execution_count": 0,
      "outputs": []
    },
    {
      "cell_type": "markdown",
      "metadata": {
        "id": "r9ynOHWLQf3U",
        "colab_type": "text"
      },
      "source": [
        "### Condições\n",
        "\n",
        "Por vezes, você vai se deparar com trechos de código que poderão ser executados ou não, para tratar isso necessitaremos de expressões lógicas para representar essas escolhas. Nesse momento, usamos os condicionais para controlar o fluxo do programa."
      ]
    },
    {
      "cell_type": "code",
      "metadata": {
        "id": "b6CRVAKoQf3V",
        "colab_type": "code",
        "outputId": "04acc5f3-b936-48ff-c118-373f2de35755",
        "colab": {
          "base_uri": "https://localhost:8080/",
          "height": 68
        }
      },
      "source": [
        "peso = float(input(\"Diga seu peso (kg): \"))\n",
        "altura = float(input(\"Diga sua altura (cm): \"))\n",
        "imc = peso/(altura**2)\n",
        "if imc < 18.49:\n",
        "    print(\"Desnutrição\")\n",
        "elif 18.5 < imc < 24.99:\n",
        "    print(\"Peso normal\")\n",
        "elif 25 < imc < 29.99:\n",
        "    print(\"Sobrepeso\")\n",
        "elif 30 < imc < 34.99:\n",
        "    print(\"Obesidade I\")\n",
        "elif 35 < imc < 39.99:\n",
        "    print(\"Obesidade II (severa)\")\n",
        "else:\n",
        "    print(\"Obesidade III (mórbida)\") "
      ],
      "execution_count": 0,
      "outputs": [
        {
          "output_type": "stream",
          "text": [
            "Diga seu peso (kg): 65\n",
            "Diga sua altura (cm): 165\n",
            "Desnutrição\n"
          ],
          "name": "stdout"
        }
      ]
    },
    {
      "cell_type": "markdown",
      "metadata": {
        "id": "qemcf4n6Qf3Y",
        "colab_type": "text"
      },
      "source": [
        "Agora imagina que você precisa calcular o IMC de 50 pacientes..."
      ]
    },
    {
      "cell_type": "code",
      "metadata": {
        "id": "gLsViASAQf3Y",
        "colab_type": "code",
        "outputId": "37e4cc48-6771-4057-f083-e46d376cae49",
        "colab": {
          "base_uri": "https://localhost:8080/",
          "height": 655
        }
      },
      "source": [
        "pessoas = [\"Gabriela\", \"Ana\", \"Francisca\"]\n",
        "for pessoa in pessoas:\n",
        "    print(\"oi {}\".format(pessoa))\n",
        "    \n",
        "    peso = float(input(\"Diga seu peso (kg): \"))\n",
        "    altura = float(input(\"Diga sua altura (cm): \"))\n",
        "    \n",
        "    imc = peso/(altura**2)\n",
        "    if imc < 17:\n",
        "        print(\"Muito abaixo do peso\")\n",
        "    elif 17 < imc < 18.49:\n",
        "        print(\"Abaixo do peso\")\n",
        "    elif 18.5 < imc < 24.99:\n",
        "        print(\"Peso normal\")\n",
        "    elif 25 < imc < 29.99:\n",
        "        print(\"Acima do peso\")\n",
        "    elif 30 < imc < 34.99:\n",
        "        print(\"Obesidade I\")\n",
        "    elif 35 < imc < 39.99:\n",
        "        print(\"Obesidade II (severa)\")\n",
        "    else:\n",
        "        print(\"Obesidade III (mórbida)\") "
      ],
      "execution_count": 0,
      "outputs": [
        {
          "output_type": "stream",
          "text": [
            "oi Gabriela\n",
            "Diga seu peso (kg): 5\n",
            "Diga sua altura (cm): 56\n",
            "Muito abaixo do peso\n",
            "oi Ana\n"
          ],
          "name": "stdout"
        },
        {
          "output_type": "error",
          "ename": "KeyboardInterrupt",
          "evalue": "ignored",
          "traceback": [
            "\u001b[0;31m---------------------------------------------------------------------------\u001b[0m",
            "\u001b[0;31mKeyboardInterrupt\u001b[0m                         Traceback (most recent call last)",
            "\u001b[0;32m/usr/local/lib/python3.6/dist-packages/ipykernel/kernelbase.py\u001b[0m in \u001b[0;36m_input_request\u001b[0;34m(self, prompt, ident, parent, password)\u001b[0m\n\u001b[1;32m    729\u001b[0m             \u001b[0;32mtry\u001b[0m\u001b[0;34m:\u001b[0m\u001b[0;34m\u001b[0m\u001b[0;34m\u001b[0m\u001b[0m\n\u001b[0;32m--> 730\u001b[0;31m                 \u001b[0mident\u001b[0m\u001b[0;34m,\u001b[0m \u001b[0mreply\u001b[0m \u001b[0;34m=\u001b[0m \u001b[0mself\u001b[0m\u001b[0;34m.\u001b[0m\u001b[0msession\u001b[0m\u001b[0;34m.\u001b[0m\u001b[0mrecv\u001b[0m\u001b[0;34m(\u001b[0m\u001b[0mself\u001b[0m\u001b[0;34m.\u001b[0m\u001b[0mstdin_socket\u001b[0m\u001b[0;34m,\u001b[0m \u001b[0;36m0\u001b[0m\u001b[0;34m)\u001b[0m\u001b[0;34m\u001b[0m\u001b[0;34m\u001b[0m\u001b[0m\n\u001b[0m\u001b[1;32m    731\u001b[0m             \u001b[0;32mexcept\u001b[0m \u001b[0mException\u001b[0m\u001b[0;34m:\u001b[0m\u001b[0;34m\u001b[0m\u001b[0;34m\u001b[0m\u001b[0m\n",
            "\u001b[0;32m/usr/local/lib/python3.6/dist-packages/jupyter_client/session.py\u001b[0m in \u001b[0;36mrecv\u001b[0;34m(self, socket, mode, content, copy)\u001b[0m\n\u001b[1;32m    802\u001b[0m         \u001b[0;32mtry\u001b[0m\u001b[0;34m:\u001b[0m\u001b[0;34m\u001b[0m\u001b[0;34m\u001b[0m\u001b[0m\n\u001b[0;32m--> 803\u001b[0;31m             \u001b[0mmsg_list\u001b[0m \u001b[0;34m=\u001b[0m \u001b[0msocket\u001b[0m\u001b[0;34m.\u001b[0m\u001b[0mrecv_multipart\u001b[0m\u001b[0;34m(\u001b[0m\u001b[0mmode\u001b[0m\u001b[0;34m,\u001b[0m \u001b[0mcopy\u001b[0m\u001b[0;34m=\u001b[0m\u001b[0mcopy\u001b[0m\u001b[0;34m)\u001b[0m\u001b[0;34m\u001b[0m\u001b[0;34m\u001b[0m\u001b[0m\n\u001b[0m\u001b[1;32m    804\u001b[0m         \u001b[0;32mexcept\u001b[0m \u001b[0mzmq\u001b[0m\u001b[0;34m.\u001b[0m\u001b[0mZMQError\u001b[0m \u001b[0;32mas\u001b[0m \u001b[0me\u001b[0m\u001b[0;34m:\u001b[0m\u001b[0;34m\u001b[0m\u001b[0;34m\u001b[0m\u001b[0m\n",
            "\u001b[0;32m/usr/local/lib/python3.6/dist-packages/zmq/sugar/socket.py\u001b[0m in \u001b[0;36mrecv_multipart\u001b[0;34m(self, flags, copy, track)\u001b[0m\n\u001b[1;32m    465\u001b[0m         \"\"\"\n\u001b[0;32m--> 466\u001b[0;31m         \u001b[0mparts\u001b[0m \u001b[0;34m=\u001b[0m \u001b[0;34m[\u001b[0m\u001b[0mself\u001b[0m\u001b[0;34m.\u001b[0m\u001b[0mrecv\u001b[0m\u001b[0;34m(\u001b[0m\u001b[0mflags\u001b[0m\u001b[0;34m,\u001b[0m \u001b[0mcopy\u001b[0m\u001b[0;34m=\u001b[0m\u001b[0mcopy\u001b[0m\u001b[0;34m,\u001b[0m \u001b[0mtrack\u001b[0m\u001b[0;34m=\u001b[0m\u001b[0mtrack\u001b[0m\u001b[0;34m)\u001b[0m\u001b[0;34m]\u001b[0m\u001b[0;34m\u001b[0m\u001b[0;34m\u001b[0m\u001b[0m\n\u001b[0m\u001b[1;32m    467\u001b[0m         \u001b[0;31m# have first part already, only loop while more to receive\u001b[0m\u001b[0;34m\u001b[0m\u001b[0;34m\u001b[0m\u001b[0;34m\u001b[0m\u001b[0m\n",
            "\u001b[0;32mzmq/backend/cython/socket.pyx\u001b[0m in \u001b[0;36mzmq.backend.cython.socket.Socket.recv\u001b[0;34m()\u001b[0m\n",
            "\u001b[0;32mzmq/backend/cython/socket.pyx\u001b[0m in \u001b[0;36mzmq.backend.cython.socket.Socket.recv\u001b[0;34m()\u001b[0m\n",
            "\u001b[0;32mzmq/backend/cython/socket.pyx\u001b[0m in \u001b[0;36mzmq.backend.cython.socket._recv_copy\u001b[0;34m()\u001b[0m\n",
            "\u001b[0;32m/usr/local/lib/python3.6/dist-packages/zmq/backend/cython/checkrc.pxd\u001b[0m in \u001b[0;36mzmq.backend.cython.checkrc._check_rc\u001b[0;34m()\u001b[0m\n",
            "\u001b[0;31mKeyboardInterrupt\u001b[0m: ",
            "\nDuring handling of the above exception, another exception occurred:\n",
            "\u001b[0;31mKeyboardInterrupt\u001b[0m                         Traceback (most recent call last)",
            "\u001b[0;32m<ipython-input-1-7b2ec5de6a23>\u001b[0m in \u001b[0;36m<module>\u001b[0;34m()\u001b[0m\n\u001b[1;32m      3\u001b[0m     \u001b[0mprint\u001b[0m\u001b[0;34m(\u001b[0m\u001b[0;34m\"oi {}\"\u001b[0m\u001b[0;34m.\u001b[0m\u001b[0mformat\u001b[0m\u001b[0;34m(\u001b[0m\u001b[0mpessoa\u001b[0m\u001b[0;34m)\u001b[0m\u001b[0;34m)\u001b[0m\u001b[0;34m\u001b[0m\u001b[0;34m\u001b[0m\u001b[0m\n\u001b[1;32m      4\u001b[0m \u001b[0;34m\u001b[0m\u001b[0m\n\u001b[0;32m----> 5\u001b[0;31m     \u001b[0mpeso\u001b[0m \u001b[0;34m=\u001b[0m \u001b[0mfloat\u001b[0m\u001b[0;34m(\u001b[0m\u001b[0minput\u001b[0m\u001b[0;34m(\u001b[0m\u001b[0;34m\"Diga seu peso (kg): \"\u001b[0m\u001b[0;34m)\u001b[0m\u001b[0;34m)\u001b[0m\u001b[0;34m\u001b[0m\u001b[0;34m\u001b[0m\u001b[0m\n\u001b[0m\u001b[1;32m      6\u001b[0m     \u001b[0maltura\u001b[0m \u001b[0;34m=\u001b[0m \u001b[0mfloat\u001b[0m\u001b[0;34m(\u001b[0m\u001b[0minput\u001b[0m\u001b[0;34m(\u001b[0m\u001b[0;34m\"Diga sua altura (cm): \"\u001b[0m\u001b[0;34m)\u001b[0m\u001b[0;34m)\u001b[0m\u001b[0;34m\u001b[0m\u001b[0;34m\u001b[0m\u001b[0m\n\u001b[1;32m      7\u001b[0m \u001b[0;34m\u001b[0m\u001b[0m\n",
            "\u001b[0;32m/usr/local/lib/python3.6/dist-packages/ipykernel/kernelbase.py\u001b[0m in \u001b[0;36mraw_input\u001b[0;34m(self, prompt)\u001b[0m\n\u001b[1;32m    703\u001b[0m             \u001b[0mself\u001b[0m\u001b[0;34m.\u001b[0m\u001b[0m_parent_ident\u001b[0m\u001b[0;34m,\u001b[0m\u001b[0;34m\u001b[0m\u001b[0;34m\u001b[0m\u001b[0m\n\u001b[1;32m    704\u001b[0m             \u001b[0mself\u001b[0m\u001b[0;34m.\u001b[0m\u001b[0m_parent_header\u001b[0m\u001b[0;34m,\u001b[0m\u001b[0;34m\u001b[0m\u001b[0;34m\u001b[0m\u001b[0m\n\u001b[0;32m--> 705\u001b[0;31m             \u001b[0mpassword\u001b[0m\u001b[0;34m=\u001b[0m\u001b[0;32mFalse\u001b[0m\u001b[0;34m,\u001b[0m\u001b[0;34m\u001b[0m\u001b[0;34m\u001b[0m\u001b[0m\n\u001b[0m\u001b[1;32m    706\u001b[0m         )\n\u001b[1;32m    707\u001b[0m \u001b[0;34m\u001b[0m\u001b[0m\n",
            "\u001b[0;32m/usr/local/lib/python3.6/dist-packages/ipykernel/kernelbase.py\u001b[0m in \u001b[0;36m_input_request\u001b[0;34m(self, prompt, ident, parent, password)\u001b[0m\n\u001b[1;32m    733\u001b[0m             \u001b[0;32mexcept\u001b[0m \u001b[0mKeyboardInterrupt\u001b[0m\u001b[0;34m:\u001b[0m\u001b[0;34m\u001b[0m\u001b[0;34m\u001b[0m\u001b[0m\n\u001b[1;32m    734\u001b[0m                 \u001b[0;31m# re-raise KeyboardInterrupt, to truncate traceback\u001b[0m\u001b[0;34m\u001b[0m\u001b[0;34m\u001b[0m\u001b[0;34m\u001b[0m\u001b[0m\n\u001b[0;32m--> 735\u001b[0;31m                 \u001b[0;32mraise\u001b[0m \u001b[0mKeyboardInterrupt\u001b[0m\u001b[0;34m\u001b[0m\u001b[0;34m\u001b[0m\u001b[0m\n\u001b[0m\u001b[1;32m    736\u001b[0m             \u001b[0;32melse\u001b[0m\u001b[0;34m:\u001b[0m\u001b[0;34m\u001b[0m\u001b[0;34m\u001b[0m\u001b[0m\n\u001b[1;32m    737\u001b[0m                 \u001b[0;32mbreak\u001b[0m\u001b[0;34m\u001b[0m\u001b[0;34m\u001b[0m\u001b[0m\n",
            "\u001b[0;31mKeyboardInterrupt\u001b[0m: "
          ]
        }
      ]
    },
    {
      "cell_type": "markdown",
      "metadata": {
        "id": "iqi28___Q-b8",
        "colab_type": "text"
      },
      "source": [
        "### repetição"
      ]
    },
    {
      "cell_type": "code",
      "metadata": {
        "id": "nEZg73E73o8j",
        "colab_type": "code",
        "colab": {}
      },
      "source": [
        "# Fibonacci series:\n",
        "# the sum of two elements defines the next.\n",
        "a, b = 0, 1\n",
        "\n",
        "while b < 10:    \n",
        "    print(b)\n",
        "    a, b = b, a+b"
      ],
      "execution_count": 0,
      "outputs": []
    }
  ]
}